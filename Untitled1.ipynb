{
 "cells": [
  {
   "cell_type": "code",
   "execution_count": 1,
   "id": "d840b6dd",
   "metadata": {},
   "outputs": [],
   "source": [
    "import cv2\n",
    "import mediapipe as mp\n",
    "import numpy as np\n",
    "import time"
   ]
  },
  {
   "cell_type": "code",
   "execution_count": 2,
   "id": "1a131538",
   "metadata": {},
   "outputs": [],
   "source": [
    "mp_face_mesh = mp.solutions.face_mesh\n",
    "face_mesh = mp_face_mesh.FaceMesh(min_detection_confidence = 0.5 , min_tracking_confidence = 0.5)"
   ]
  },
  {
   "cell_type": "code",
   "execution_count": 3,
   "id": "5df42d9e",
   "metadata": {},
   "outputs": [],
   "source": [
    "mp_drawing = mp.solutions.drawing_utils"
   ]
  },
  {
   "cell_type": "code",
   "execution_count": 4,
   "id": "479c5f8f",
   "metadata": {},
   "outputs": [],
   "source": [
    "drawing_spec = mp_drawing.DrawingSpec(thickness=1,circle_radius=1)"
   ]
  },
  {
   "cell_type": "code",
   "execution_count": 5,
   "id": "dfa37261",
   "metadata": {},
   "outputs": [],
   "source": [
    "cap = cv2.VideoCapture(0)"
   ]
  },
  {
   "cell_type": "code",
   "execution_count": 6,
   "id": "77341826",
   "metadata": {},
   "outputs": [
    {
     "ename": "KeyboardInterrupt",
     "evalue": "",
     "output_type": "error",
     "traceback": [
      "\u001b[1;31m---------------------------------------------------------------------------\u001b[0m",
      "\u001b[1;31mKeyboardInterrupt\u001b[0m                         Traceback (most recent call last)",
      "\u001b[1;32mC:\\Users\\WINDOW~1\\AppData\\Local\\Temp/ipykernel_11348/1568326222.py\u001b[0m in \u001b[0;36m<module>\u001b[1;34m\u001b[0m\n\u001b[0;32m      1\u001b[0m \u001b[1;32mwhile\u001b[0m \u001b[0mcap\u001b[0m\u001b[1;33m.\u001b[0m\u001b[0misOpened\u001b[0m\u001b[1;33m(\u001b[0m\u001b[1;33m)\u001b[0m\u001b[1;33m:\u001b[0m\u001b[1;33m\u001b[0m\u001b[1;33m\u001b[0m\u001b[0m\n\u001b[0;32m      2\u001b[0m \u001b[1;33m\u001b[0m\u001b[0m\n\u001b[1;32m----> 3\u001b[1;33m     \u001b[0msuccess\u001b[0m\u001b[1;33m,\u001b[0m\u001b[0mimage\u001b[0m \u001b[1;33m=\u001b[0m \u001b[0mcap\u001b[0m\u001b[1;33m.\u001b[0m\u001b[0mread\u001b[0m\u001b[1;33m(\u001b[0m\u001b[1;33m)\u001b[0m\u001b[1;33m\u001b[0m\u001b[1;33m\u001b[0m\u001b[0m\n\u001b[0m\u001b[0;32m      4\u001b[0m \u001b[1;33m\u001b[0m\u001b[0m\n\u001b[0;32m      5\u001b[0m     \u001b[0mstart\u001b[0m \u001b[1;33m=\u001b[0m \u001b[0mtime\u001b[0m\u001b[1;33m.\u001b[0m\u001b[0mtime\u001b[0m\u001b[1;33m(\u001b[0m\u001b[1;33m)\u001b[0m\u001b[1;33m\u001b[0m\u001b[1;33m\u001b[0m\u001b[0m\n",
      "\u001b[1;31mKeyboardInterrupt\u001b[0m: "
     ]
    }
   ],
   "source": [
    "while cap.isOpened():\n",
    "    \n",
    "    success,image = cap.read()\n",
    "    \n",
    "    start = time.time()\n",
    "    \n",
    "    image = cv2.cvtColor(cv2.flip(image,1),cv2.COLOR_BGR2RGB)\n",
    "    \n",
    "    image.flags.writeable = False\n",
    "    \n",
    "    results = face_mesh.process(image)\n",
    "    \n",
    "    image = cv2.cvtColor(image,cv2.COLOR_RGB2BGR)\n",
    "    \n",
    "    img_h,img_w,Img_c = image.shape\n",
    "    face_3d = []\n",
    "    face_2d = []\n",
    "    \n",
    "    if results.multi_face_landmarks:\n",
    "        for face_landmarks in results.multi_face_landmarks:\n",
    "            for idx, lm in enumerate(face_landmarks.landmark):\n",
    "                if idx == 33 or idx == 263 or idx == 1 or idx == 61 or idx == 291 or idx == 199:\n",
    "                    if idx == 1:\n",
    "                        nose_2d = (lm.x * img_w , lm.y * img_h)\n",
    "                        nose_3d = (lm.x * img_w , lm.y * img_h , lm.z * 3000)\n",
    "                    \n",
    "                    x , y = int(lm.x * img_w) , int(lm.y * img_h)\n",
    "                    \n",
    "                    face_2d.append([x, y])\n",
    "                    \n",
    "                    face_3d.append([x, y, lm.z])\n",
    "                    \n",
    "            face_2d = np.array(face_2d, dtype = np.float64)\n",
    "            \n",
    "            face_3d = np.array(face_3d, dtype = np.float64)\n",
    "            \n",
    "            focal_length = 1 * img_w\n",
    "            \n",
    "            cam_matrix = np.array([[focal_length, 0, img_h / 2],\n",
    "                                  [0 ,focal_length, img_w / 2],\n",
    "                                  [0 ,0 ,1]])\n",
    "            \n",
    "            dist_matrix = np.zeros((4,1),dtype= np.float64)\n",
    "            \n",
    "            success, rot_vec, trans_vec = cv2.solvePnP(face_3d, face_2d, cam_matrix, dist_matrix)\n",
    "            \n",
    "            rmat, jac = cv2.Rodrigues(rot_vec)\n",
    "            \n",
    "            angles , mtxR , mtxQ , Qx , Qy , Qz = cv2.RQDecomp3x3(rmat)\n",
    "            \n",
    "            x = angles[0] * 360\n",
    "            y = angles[1] * 360\n",
    "            z = angles[2] * 360\n",
    "            \n",
    "            if y < -10:\n",
    "                text = \"Looking Left\"\n",
    "            elif y > 10:\n",
    "                text = \"Looking Right\"\n",
    "            elif x < -10:\n",
    "                text = \"Looking Down\"\n",
    "            elif x > 10:\n",
    "                text = \"Looking Up\"\n",
    "            else:\n",
    "                text = \"Forward\"\n",
    "                \n",
    "            nose_3d_projection , jacobian = cv2.projectPoints(nose_3d, rot_vec, trans_vec, cam_matrix, dist_matrix)\n",
    "            \n",
    "            p1 = (int(nose_2d[0]), int(nose_2d[1]))\n",
    "            p2 = (int(nose_2d[0] + y * 10), int(nose_2d[1] - x * 10))\n",
    "            \n",
    "            cv2.line(image, p1, p2, (255, 0, 0), 3)\n",
    "            \n",
    "            cv2.putText(image, text, (20 , 50), cv2.FONT_HERSHEY_SIMPLEX, 2 ,(0, 255, 0), 2)\n",
    "            cv2.putText(image, \"x: \" + str(np.round(x,2)), (500, 50), cv2.FONT_HERSHEY_SIMPLEX, 1, (0, 0, 255), 2)\n",
    "            cv2.putText(image, \"y: \" + str(np.round(y,2)), (500, 100), cv2.FONT_HERSHEY_SIMPLEX, 1, (0, 0, 255), 2)\n",
    "            cv2.putText(image, \"z: \" + str(np.round(z,2)), (500, 150), cv2.FONT_HERSHEY_SIMPLEX, 1, (0, 0, 255), 2)\n",
    "            \n",
    "            end = time.time()\n",
    "            totalTime = end - start \n",
    "            \n",
    "            fps = 1 / totalTime\n",
    "            \n",
    "            #cv2.putText(image, f'FPS: {int(fps)}' , (20 , 450), cv2.FONT_HERSHEY_SIMPLEX, 1.5, (0, 255, 0), 2)\n",
    "            \n",
    "            mp_drawing.draw_landmarks(\n",
    "                        image = image,\n",
    "                        landmark_list = face_landmarks,\n",
    "                        connections = mp_face_mesh.FACEMESH_TESSELATION,\n",
    "                        landmark_drawing_spec = drawing_spec,\n",
    "                        connection_drawing_spec = drawing_spec)\n",
    "            \n",
    "            cv2.imshow('Head Pose Estimation ', image)\n",
    "            \n",
    "            key = cv2.waitKey(5) & 0xFF\n",
    "\n",
    "            if key == ord(\"q\"):\n",
    "                break\n",
    "        \n",
    "        \n",
    "cap.release()\n",
    "\n",
    "            \n",
    "\n",
    "    \n",
    "    "
   ]
  },
  {
   "cell_type": "code",
   "execution_count": null,
   "id": "7ea765d3",
   "metadata": {},
   "outputs": [],
   "source": []
  },
  {
   "cell_type": "code",
   "execution_count": null,
   "id": "d373eb99",
   "metadata": {},
   "outputs": [],
   "source": []
  }
 ],
 "metadata": {
  "kernelspec": {
   "display_name": "Python 3 (ipykernel)",
   "language": "python",
   "name": "python3"
  },
  "language_info": {
   "codemirror_mode": {
    "name": "ipython",
    "version": 3
   },
   "file_extension": ".py",
   "mimetype": "text/x-python",
   "name": "python",
   "nbconvert_exporter": "python",
   "pygments_lexer": "ipython3",
   "version": "3.9.7"
  }
 },
 "nbformat": 4,
 "nbformat_minor": 5
}
